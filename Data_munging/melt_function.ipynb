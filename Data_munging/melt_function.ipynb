{
 "cells": [
  {
   "cell_type": "code",
   "execution_count": 1,
   "metadata": {},
   "outputs": [
    {
     "data": {
      "text/html": [
       "<style scoped>\n",
       "  .ansiout {\n",
       "    display: block;\n",
       "    unicode-bidi: embed;\n",
       "    white-space: pre-wrap;\n",
       "    word-wrap: break-word;\n",
       "    word-break: break-all;\n",
       "    font-family: \"Source Code Pro\", \"Menlo\", monospace;;\n",
       "    font-size: 13px;\n",
       "    color: #555;\n",
       "    margin-left: 4px;\n",
       "    line-height: 19px;\n",
       "  }\n",
       "</style>\n",
       "<div class=\"ansiout\"></div>"
      ]
     },
     "metadata": {},
     "output_type": "display_data"
    }
   ],
   "source": [
    "import pandas as pd\n",
    "from pyspark.sql.functions import col, explode, array, struct, lit\n",
    "\n",
    "df = pd.DataFrame({\n",
    "                   'monday':['apple','apple','banana', 'coconut'],\n",
    "                   'tuesday':[1, 2, 4, None],\n",
    "                   'extra':[10, 11, 12, 13],\n",
    "})\n",
    "\n",
    "df = spark.createDataFrame(df)"
   ]
  },
  {
   "cell_type": "code",
   "execution_count": 2,
   "metadata": {},
   "outputs": [
    {
     "data": {
      "text/html": [
       "<style scoped>\n",
       "  .ansiout {\n",
       "    display: block;\n",
       "    unicode-bidi: embed;\n",
       "    white-space: pre-wrap;\n",
       "    word-wrap: break-word;\n",
       "    word-break: break-all;\n",
       "    font-family: \"Source Code Pro\", \"Menlo\", monospace;;\n",
       "    font-size: 13px;\n",
       "    color: #555;\n",
       "    margin-left: 4px;\n",
       "    line-height: 19px;\n",
       "  }\n",
       "</style>\n",
       "<div class=\"ansiout\"></div>"
      ]
     },
     "metadata": {},
     "output_type": "display_data"
    }
   ],
   "source": [
    "def to_melt(df, id_vars, value_vars):\n",
    "    ''' \n",
    "    Similar to pandas melt, explodes columns into rows.\n",
    "    \n",
    "    :param id_vars:  List of columns to keep.\n",
    "    :param value_vars:  List of column to explode.\n",
    "    :return:  dataframe\n",
    "    '''\n",
    "    \n",
    "    # Create and explode an array of (column_name, column_value) structs\n",
    "    kvs = explode(array([\n",
    "      struct(lit(c).alias('variables'), col(c).alias('values')) for c in value_vars\n",
    "    ])).alias(\"kvs\")\n",
    "\n",
    "    return df.select(id_vars + [kvs]).select(id_vars + ['kvs.variables', 'kvs.values'])\n",
    "  \n",
    "test = to_melt(df, ['extra'], ['monday', 'tuesday'])"
   ]
  },
  {
   "cell_type": "code",
   "execution_count": 3,
   "metadata": {},
   "outputs": [
    {
     "data": {
      "text/html": [
       "<style scoped>\n",
       "  .table-result-container {\n",
       "    max-height: 300px;\n",
       "    overflow: auto;\n",
       "  }\n",
       "  table, th, td {\n",
       "    border: 1px solid black;\n",
       "    border-collapse: collapse;\n",
       "  }\n",
       "  th, td {\n",
       "    padding: 5px;\n",
       "  }\n",
       "  th {\n",
       "    text-align: left;\n",
       "  }\n",
       "</style><div class='table-result-container'><table class='table-result'><thead style='background-color: white'><tr><th>extra</th><th>variables</th><th>values</th></tr></thead><tbody><tr><td>10</td><td>monday</td><td>apple</td></tr><tr><td>10</td><td>tuesday</td><td>1.0</td></tr><tr><td>11</td><td>monday</td><td>apple</td></tr><tr><td>11</td><td>tuesday</td><td>2.0</td></tr><tr><td>12</td><td>monday</td><td>banana</td></tr><tr><td>12</td><td>tuesday</td><td>4.0</td></tr><tr><td>13</td><td>monday</td><td>coconut</td></tr><tr><td>13</td><td>tuesday</td><td>null</td></tr></tbody></table></div>"
      ]
     },
     "metadata": {},
     "output_type": "display_data"
    }
   ],
   "source": [
    "display(test)"
   ]
  },
  {
   "cell_type": "code",
   "execution_count": 4,
   "metadata": {},
   "outputs": [],
   "source": []
  }
 ],
 "metadata": {
  "kernelspec": {
   "display_name": "Python 3",
   "language": "python",
   "name": "python3"
  },
  "language_info": {
   "codemirror_mode": {
    "name": "ipython",
    "version": 3
   },
   "file_extension": ".py",
   "mimetype": "text/x-python",
   "name": "python",
   "nbconvert_exporter": "python",
   "pygments_lexer": "ipython3",
   "version": "3.6.5"
  },
  "name": "melt_function",
  "notebookId": 3203907314992893
 },
 "nbformat": 4,
 "nbformat_minor": 1
}
